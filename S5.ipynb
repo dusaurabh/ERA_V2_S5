{
 "cells": [
  {
   "cell_type": "markdown",
   "id": "d81927b2-c692-4e06-b6ca-2a5a227a05b3",
   "metadata": {},
   "source": [
    "## Code 1"
   ]
  },
  {
   "cell_type": "markdown",
   "id": "d433f475-eb39-4972-8052-125fce0e33ba",
   "metadata": {},
   "source": [
    "#### Importing the libraries"
   ]
  },
  {
   "cell_type": "code",
   "execution_count": 2,
   "id": "10c1d87b-f974-4f3e-99bc-546ce81bc9d8",
   "metadata": {},
   "outputs": [],
   "source": [
    "import torch\n",
    "import torch.nn as nn\n",
    "import torch.nn.functional as F\n",
    "import torch.optim as optim\n",
    "from torchvision import datasets,transforms\n",
    "import matplotlib.pyplot as plt\n",
    "import utils\n",
    "import models"
   ]
  },
  {
   "cell_type": "markdown",
   "id": "c598a62a-794b-49e7-aea8-5ea00d901a1d",
   "metadata": {},
   "source": [
    "## Code 2"
   ]
  },
  {
   "cell_type": "markdown",
   "id": "962f9e06-69e9-4b07-9f8d-bb0cb7edbab9",
   "metadata": {},
   "source": [
    "#### Checking if CUDA is available or not"
   ]
  },
  {
   "cell_type": "code",
   "execution_count": 3,
   "id": "60096e64-dd38-4020-8d69-13dded36634b",
   "metadata": {},
   "outputs": [
    {
     "name": "stdout",
     "output_type": "stream",
     "text": [
      "CUDA Available? True\n"
     ]
    }
   ],
   "source": [
    "# CUDA?\n",
    "cuda = torch.cuda.is_available()\n",
    "print(\"CUDA Available?\", cuda)"
   ]
  },
  {
   "cell_type": "markdown",
   "id": "b13f2580-8f07-4b54-8200-9db6a4a148ef",
   "metadata": {},
   "source": [
    "## Code 3"
   ]
  },
  {
   "cell_type": "code",
   "execution_count": 4,
   "id": "9b03e5bc-966d-442d-97e8-0b225d6f06be",
   "metadata": {},
   "outputs": [],
   "source": [
    "# Train data transformations\n",
    "train_transforms = transforms.Compose([\n",
    "    transforms.RandomApply([transforms.CenterCrop(22), ], p=0.1),\n",
    "    transforms.Resize((28, 28)),\n",
    "    transforms.RandomRotation((-15., 15.), fill=0),\n",
    "    transforms.ToTensor(),\n",
    "    transforms.Normalize((0.1307,), (0.3081,)),\n",
    "    ])\n",
    "\n",
    "# Test data transformations\n",
    "test_transforms = transforms.Compose([\n",
    "    transforms.ToTensor(),\n",
    "    transforms.Normalize((0.1307,), (0.3081,))\n",
    "    ])"
   ]
  },
  {
   "cell_type": "markdown",
   "id": "c5f64474-7b7b-44fb-8a09-00da810a6edc",
   "metadata": {},
   "source": [
    "## Code 4"
   ]
  },
  {
   "cell_type": "markdown",
   "id": "f8c34d54-f8c9-4c9b-bce8-0bcb2ed565de",
   "metadata": {},
   "source": [
    "#### Downloading the MNIST dataset of train and test"
   ]
  },
  {
   "cell_type": "code",
   "execution_count": 5,
   "id": "0b627000-f3fe-4f23-9044-59b72ab4caa6",
   "metadata": {},
   "outputs": [],
   "source": [
    "train_data = datasets.MNIST('../data', train=True, download=True, transform=train_transforms)\n",
    "test_data = datasets.MNIST('../data', train=False, download=True, transform=test_transforms)"
   ]
  },
  {
   "cell_type": "markdown",
   "id": "b5ba1505-5441-4696-a176-7d0eb4ed4ef9",
   "metadata": {},
   "source": [
    "## Code 5"
   ]
  },
  {
   "cell_type": "markdown",
   "id": "e6dcd6eb-11a5-4eb6-bf07-9b39f24c5c33",
   "metadata": {},
   "source": [
    "#### Defining batch size and loading test and train loader"
   ]
  },
  {
   "cell_type": "code",
   "execution_count": 6,
   "id": "3bbf7a57-99ba-46f1-a528-4c8a2b89c4a2",
   "metadata": {},
   "outputs": [],
   "source": [
    "batch_size = 128\n",
    "\n",
    "kwargs = {'batch_size': batch_size, 'shuffle': True, 'num_workers': 2, 'pin_memory': True}\n",
    "\n",
    "test_loader = torch.utils.data.DataLoader(test_data, **kwargs)\n",
    "train_loader = torch.utils.data.DataLoader(train_data, **kwargs)"
   ]
  },
  {
   "cell_type": "markdown",
   "id": "44a46922-ecfa-48d4-bdce-c7efb20631ad",
   "metadata": {},
   "source": [
    "## Code 6"
   ]
  },
  {
   "cell_type": "markdown",
   "id": "89c5a4f9-2a2c-41f7-9183-e88bb134e214",
   "metadata": {},
   "source": [
    "#### Visualizing the some samples of train loader dataset"
   ]
  },
  {
   "cell_type": "code",
   "execution_count": 7,
   "id": "57e7c689-62bc-44c2-b036-c64258a03ab6",
   "metadata": {},
   "outputs": [
    {
     "data": {
      "image/png": "[encoded data removed]",
      "text/plain": [
       "<Figure size 640x480 with 12 Axes>"
      ]
     },
     "metadata": {},
     "output_type": "display_data"
    }
   ],
   "source": [
    "batch_data, batch_label = next(iter(train_loader))\n",
    "\n",
    "fig = plt.figure()\n",
    "\n",
    "for i in range(12):\n",
    "  plt.subplot(3,4,i+1)\n",
    "  plt.tight_layout()\n",
    "  plt.imshow(batch_data[i].squeeze(0), cmap='gray')\n",
    "  plt.title(batch_label[i].item())\n",
    "  plt.xticks([])\n",
    "  plt.yticks([])"
   ]
  },
  {
   "cell_type": "markdown",
   "id": "4c27050e-e90e-46ea-8807-56ed141020b5",
   "metadata": {},
   "source": [
    "## Code 7"
   ]
  },
  {
   "cell_type": "code",
   "execution_count": 8,
   "id": "3a4c1919-0e76-4bc3-92e3-936bca61cd6a",
   "metadata": {},
   "outputs": [],
   "source": [
    "## Sfhited this code to models.py file"
   ]
  },
  {
   "cell_type": "markdown",
   "id": "ba9e6bad-b988-46e3-9c9c-5ad00e86914a",
   "metadata": {},
   "source": [
    "## Code 8"
   ]
  },
  {
   "cell_type": "code",
   "execution_count": 9,
   "id": "e69631b0-c813-4736-b720-7d3b5705b6cb",
   "metadata": {},
   "outputs": [],
   "source": [
    "### Shifted this code to utils file"
   ]
  },
  {
   "cell_type": "markdown",
   "id": "0e5c756f-915c-437c-8940-50c7a88adfc8",
   "metadata": {},
   "source": [
    "## Code 9"
   ]
  },
  {
   "cell_type": "code",
   "execution_count": 10,
   "id": "688c4fca-4e37-4818-a1b7-4729ada1266d",
   "metadata": {},
   "outputs": [],
   "source": [
    "from tqdm import tqdm\n",
    "\n",
    "## Shifted this code to utils.py file"
   ]
  },
  {
   "cell_type": "markdown",
   "id": "53e2b74e-7018-4565-aea5-b3c08d22d4a0",
   "metadata": {},
   "source": [
    "## Code 10"
   ]
  },
  {
   "cell_type": "markdown",
   "id": "3fc38f17-e146-4a86-b5da-31952a03ad22",
   "metadata": {},
   "source": [
    "#### Define the epochs,optimizer,learning rate and finally running our model"
   ]
  },
  {
   "cell_type": "code",
   "execution_count": 11,
   "id": "4d0bae10-0e6a-4077-a2da-604b9aea7c1a",
   "metadata": {},
   "outputs": [
    {
     "name": "stderr",
     "output_type": "stream",
     "text": [
      "D:\\Softwares\\anaconda3\\envs\\pytorch-gpu\\Lib\\site-packages\\torch\\optim\\lr_scheduler.py:28: UserWarning: The verbose parameter is deprecated. Please use get_last_lr() to access the learning rate.\n",
      "  warnings.warn(\"The verbose parameter is deprecated. Please use get_last_lr() \"\n"
     ]
    },
    {
     "name": "stdout",
     "output_type": "stream",
     "text": [
      "Epoch 1\n"
     ]
    },
    {
     "name": "stderr",
     "output_type": "stream",
     "text": [
      "Train: Loss=0.0726 Batch_id=468 Accuracy=85.77: 100%|██████████| 469/469 [00:32<00:00, 14.40it/s]\n"
     ]
    },
    {
     "name": "stdout",
     "output_type": "stream",
     "text": [
      "Test set: Average loss: 0.0653, Accuracy: 9801/10000 (98.01%)\n",
      "\n",
      "Epoch 2\n"
     ]
    },
    {
     "name": "stderr",
     "output_type": "stream",
     "text": [
      "Train: Loss=0.0409 Batch_id=468 Accuracy=97.35: 100%|██████████| 469/469 [00:32<00:00, 14.28it/s]\n"
     ]
    },
    {
     "name": "stdout",
     "output_type": "stream",
     "text": [
      "Test set: Average loss: 0.0409, Accuracy: 9869/10000 (98.69%)\n",
      "\n",
      "Epoch 3\n"
     ]
    },
    {
     "name": "stderr",
     "output_type": "stream",
     "text": [
      "Train: Loss=0.1302 Batch_id=468 Accuracy=98.04: 100%|██████████| 469/469 [00:32<00:00, 14.48it/s]\n"
     ]
    },
    {
     "name": "stdout",
     "output_type": "stream",
     "text": [
      "Test set: Average loss: 0.0341, Accuracy: 9882/10000 (98.82%)\n",
      "\n",
      "Epoch 4\n"
     ]
    },
    {
     "name": "stderr",
     "output_type": "stream",
     "text": [
      "Train: Loss=0.1228 Batch_id=468 Accuracy=98.38: 100%|██████████| 469/469 [00:32<00:00, 14.47it/s]\n"
     ]
    },
    {
     "name": "stdout",
     "output_type": "stream",
     "text": [
      "Test set: Average loss: 0.0304, Accuracy: 9899/10000 (98.99%)\n",
      "\n",
      "Epoch 5\n"
     ]
    },
    {
     "name": "stderr",
     "output_type": "stream",
     "text": [
      "Train: Loss=0.0381 Batch_id=468 Accuracy=98.61: 100%|██████████| 469/469 [00:32<00:00, 14.55it/s]\n"
     ]
    },
    {
     "name": "stdout",
     "output_type": "stream",
     "text": [
      "Test set: Average loss: 0.0337, Accuracy: 9881/10000 (98.81%)\n",
      "\n",
      "Epoch 6\n"
     ]
    },
    {
     "name": "stderr",
     "output_type": "stream",
     "text": [
      "Train: Loss=0.0218 Batch_id=468 Accuracy=98.75: 100%|██████████| 469/469 [00:32<00:00, 14.54it/s]\n"
     ]
    },
    {
     "name": "stdout",
     "output_type": "stream",
     "text": [
      "Test set: Average loss: 0.0238, Accuracy: 9927/10000 (99.27%)\n",
      "\n",
      "Epoch 7\n"
     ]
    },
    {
     "name": "stderr",
     "output_type": "stream",
     "text": [
      "Train: Loss=0.1082 Batch_id=468 Accuracy=98.89: 100%|██████████| 469/469 [00:34<00:00, 13.64it/s]\n"
     ]
    },
    {
     "name": "stdout",
     "output_type": "stream",
     "text": [
      "Test set: Average loss: 0.0259, Accuracy: 9914/10000 (99.14%)\n",
      "\n",
      "Epoch 8\n"
     ]
    },
    {
     "name": "stderr",
     "output_type": "stream",
     "text": [
      "Train: Loss=0.0385 Batch_id=468 Accuracy=99.01: 100%|██████████| 469/469 [00:34<00:00, 13.73it/s]\n"
     ]
    },
    {
     "name": "stdout",
     "output_type": "stream",
     "text": [
      "Test set: Average loss: 0.0221, Accuracy: 9926/10000 (99.26%)\n",
      "\n",
      "Epoch 9\n"
     ]
    },
    {
     "name": "stderr",
     "output_type": "stream",
     "text": [
      "Train: Loss=0.0624 Batch_id=468 Accuracy=99.08: 100%|██████████| 469/469 [00:34<00:00, 13.72it/s]\n"
     ]
    },
    {
     "name": "stdout",
     "output_type": "stream",
     "text": [
      "Test set: Average loss: 0.0236, Accuracy: 9925/10000 (99.25%)\n",
      "\n",
      "Epoch 10\n"
     ]
    },
    {
     "name": "stderr",
     "output_type": "stream",
     "text": [
      "Train: Loss=0.0184 Batch_id=468 Accuracy=99.08: 100%|██████████| 469/469 [00:34<00:00, 13.64it/s]\n"
     ]
    },
    {
     "name": "stdout",
     "output_type": "stream",
     "text": [
      "Test set: Average loss: 0.0193, Accuracy: 9932/10000 (99.32%)\n",
      "\n",
      "Epoch 11\n"
     ]
    },
    {
     "name": "stderr",
     "output_type": "stream",
     "text": [
      "Train: Loss=0.0344 Batch_id=468 Accuracy=99.26: 100%|██████████| 469/469 [00:34<00:00, 13.75it/s]\n"
     ]
    },
    {
     "name": "stdout",
     "output_type": "stream",
     "text": [
      "Test set: Average loss: 0.0210, Accuracy: 9925/10000 (99.25%)\n",
      "\n",
      "Epoch 12\n"
     ]
    },
    {
     "name": "stderr",
     "output_type": "stream",
     "text": [
      "Train: Loss=0.0099 Batch_id=468 Accuracy=99.17: 100%|██████████| 469/469 [00:34<00:00, 13.62it/s]\n"
     ]
    },
    {
     "name": "stdout",
     "output_type": "stream",
     "text": [
      "Test set: Average loss: 0.0241, Accuracy: 9916/10000 (99.16%)\n",
      "\n",
      "Epoch 13\n"
     ]
    },
    {
     "name": "stderr",
     "output_type": "stream",
     "text": [
      "Train: Loss=0.0064 Batch_id=468 Accuracy=99.35: 100%|██████████| 469/469 [00:34<00:00, 13.71it/s]\n"
     ]
    },
    {
     "name": "stdout",
     "output_type": "stream",
     "text": [
      "Test set: Average loss: 0.0218, Accuracy: 9926/10000 (99.26%)\n",
      "\n",
      "Epoch 14\n"
     ]
    },
    {
     "name": "stderr",
     "output_type": "stream",
     "text": [
      "Train: Loss=0.0082 Batch_id=468 Accuracy=99.34: 100%|██████████| 469/469 [00:34<00:00, 13.66it/s]\n"
     ]
    },
    {
     "name": "stdout",
     "output_type": "stream",
     "text": [
      "Test set: Average loss: 0.0279, Accuracy: 9907/10000 (99.07%)\n",
      "\n",
      "Epoch 15\n"
     ]
    },
    {
     "name": "stderr",
     "output_type": "stream",
     "text": [
      "Train: Loss=0.0065 Batch_id=468 Accuracy=99.40: 100%|██████████| 469/469 [00:34<00:00, 13.61it/s]\n"
     ]
    },
    {
     "name": "stdout",
     "output_type": "stream",
     "text": [
      "Test set: Average loss: 0.0212, Accuracy: 9927/10000 (99.27%)\n",
      "\n",
      "Epoch 16\n"
     ]
    },
    {
     "name": "stderr",
     "output_type": "stream",
     "text": [
      "Train: Loss=0.0014 Batch_id=468 Accuracy=99.53: 100%|██████████| 469/469 [00:34<00:00, 13.69it/s]\n"
     ]
    },
    {
     "name": "stdout",
     "output_type": "stream",
     "text": [
      "Test set: Average loss: 0.0160, Accuracy: 9944/10000 (99.44%)\n",
      "\n",
      "Epoch 17\n"
     ]
    },
    {
     "name": "stderr",
     "output_type": "stream",
     "text": [
      "Train: Loss=0.0036 Batch_id=468 Accuracy=99.60: 100%|██████████| 469/469 [00:34<00:00, 13.68it/s]\n"
     ]
    },
    {
     "name": "stdout",
     "output_type": "stream",
     "text": [
      "Test set: Average loss: 0.0154, Accuracy: 9945/10000 (99.45%)\n",
      "\n",
      "Epoch 18\n"
     ]
    },
    {
     "name": "stderr",
     "output_type": "stream",
     "text": [
      "Train: Loss=0.0033 Batch_id=468 Accuracy=99.63: 100%|██████████| 469/469 [00:34<00:00, 13.79it/s]\n"
     ]
    },
    {
     "name": "stdout",
     "output_type": "stream",
     "text": [
      "Test set: Average loss: 0.0154, Accuracy: 9943/10000 (99.43%)\n",
      "\n",
      "Epoch 19\n"
     ]
    },
    {
     "name": "stderr",
     "output_type": "stream",
     "text": [
      "Train: Loss=0.0034 Batch_id=468 Accuracy=99.68: 100%|██████████| 469/469 [00:34<00:00, 13.62it/s]\n"
     ]
    },
    {
     "name": "stdout",
     "output_type": "stream",
     "text": [
      "Test set: Average loss: 0.0159, Accuracy: 9947/10000 (99.47%)\n",
      "\n",
      "Epoch 20\n"
     ]
    },
    {
     "name": "stderr",
     "output_type": "stream",
     "text": [
      "Train: Loss=0.0029 Batch_id=468 Accuracy=99.69: 100%|██████████| 469/469 [00:33<00:00, 13.82it/s]\n"
     ]
    },
    {
     "name": "stdout",
     "output_type": "stream",
     "text": [
      "Test set: Average loss: 0.0147, Accuracy: 9946/10000 (99.46%)\n",
      "\n"
     ]
    }
   ],
   "source": [
    "device = 'cuda' if torch.cuda.is_available() else 'cpu'\n",
    "model = models.Net().to(device)\n",
    "optimizer = optim.SGD(model.parameters(), lr=0.01, momentum=0.9)\n",
    "scheduler = optim.lr_scheduler.StepLR(optimizer, step_size=15, gamma=0.1, verbose=True)\n",
    "# New Line\n",
    "criterion = F.nll_loss\n",
    "num_epochs = 20\n",
    "\n",
    "for epoch in range(1, num_epochs+1):\n",
    "  print(f'Epoch {epoch}')\n",
    "  utils.train(model, device, train_loader, optimizer, criterion)\n",
    "  utils.test(model, device, test_loader, criterion)\n",
    "  scheduler.step()"
   ]
  },
  {
   "cell_type": "markdown",
   "id": "4312775e-fb30-4a9c-9ccb-79f3d30bb173",
   "metadata": {},
   "source": [
    "## Code 11"
   ]
  },
  {
   "cell_type": "markdown",
   "id": "af0bea40-b9b4-4093-9daf-16f8c5c363f0",
   "metadata": {},
   "source": [
    "#### Visualizing the training and test loss and training and testing accuracy"
   ]
  },
  {
   "cell_type": "code",
   "execution_count": 12,
   "id": "22a26209-a2c0-4a73-8c65-eb82f239741d",
   "metadata": {},
   "outputs": [
    {
     "data": {
      "image/png": "[encoded data removed]",
      "text/plain": [
       "<Figure size 1500x1000 with 4 Axes>"
      ]
     },
     "metadata": {},
     "output_type": "display_data"
    }
   ],
   "source": [
    "# shifted this code to utils\n",
    "utils.visualize_loss_accuracy()"
   ]
  },
  {
   "cell_type": "markdown",
   "id": "3d7f518a-cb89-42fd-9614-d222bf743d46",
   "metadata": {},
   "source": [
    "#### Printing the model summary to see its parameters"
   ]
  },
  {
   "cell_type": "code",
   "execution_count": 13,
   "id": "6eb31373-4558-4186-8367-7b4dd291198c",
   "metadata": {},
   "outputs": [
    {
     "name": "stdout",
     "output_type": "stream",
     "text": [
      "----------------------------------------------------------------\n",
      "        Layer (type)               Output Shape         Param #\n",
      "================================================================\n",
      "            Conv2d-1           [-1, 32, 26, 26]             288\n",
      "            Conv2d-2           [-1, 64, 24, 24]          18,432\n",
      "            Conv2d-3          [-1, 128, 10, 10]          73,728\n",
      "            Conv2d-4            [-1, 256, 8, 8]         294,912\n",
      "            Linear-5                   [-1, 50]         204,800\n",
      "            Linear-6                   [-1, 10]             500\n",
      "================================================================\n",
      "Total params: 592,660\n",
      "Trainable params: 592,660\n",
      "Non-trainable params: 0\n",
      "----------------------------------------------------------------\n",
      "Input size (MB): 0.00\n",
      "Forward/backward pass size (MB): 0.67\n",
      "Params size (MB): 2.26\n",
      "Estimated Total Size (MB): 2.93\n",
      "----------------------------------------------------------------\n"
     ]
    }
   ],
   "source": [
    "from torchsummary import summary\n",
    "summary(model, input_size=(1, 28, 28))"
   ]
  },
  {
   "cell_type": "code",
   "execution_count": null,
   "id": "92e3d13a-19ae-4b89-8e52-00e03f85f1d2",
   "metadata": {},
   "outputs": [],
   "source": []
  }
 ],
 "metadata": {
  "kernelspec": {
   "display_name": "Python 3 (ipykernel)",
   "language": "python",
   "name": "python3"
  },
  "language_info": {
   "codemirror_mode": {
    "name": "ipython",
    "version": 3
   },
   "file_extension": ".py",
   "mimetype": "text/x-python",
   "name": "python",
   "nbconvert_exporter": "python",
   "pygments_lexer": "ipython3",
   "version": "3.11.7"
  }
 },
 "nbformat": 4,
 "nbformat_minor": 5
}
